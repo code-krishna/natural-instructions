{
 "cells": [
  {
   "cell_type": "code",
   "execution_count": 3,
   "id": "c603176e-76ed-4620-a11a-e24fae374235",
   "metadata": {},
   "outputs": [
    {
     "name": "stdout",
     "output_type": "stream",
     "text": [
      "Combined data written to combined_output.json\n"
     ]
    }
   ],
   "source": [
    "import json\n",
    "import os\n",
    "import glob\n",
    "\n",
    "# Directory where your JSON files are stored\n",
    "input_directory = 'temporal_tasks'\n",
    "output_file_path = 'combined_output.json'\n",
    "\n",
    "def convert_json_format(file_path):\n",
    "    with open(file_path, 'r') as file:\n",
    "        data = json.load(file)\n",
    "    \n",
    "    # Extract required data from the original JSON format\n",
    "    definition = data.get('Definition', [''])[0]\n",
    "    positive_examples = data.get('Positive Examples', [])\n",
    "    \n",
    "    # Formulating the explanation part for positive examples\n",
    "    pos_examples_text = \"Positive Examples: \" + \"\\n\".join([\n",
    "        f\"{ex['input']} Output: {ex['output'][0]} Explanation: {ex['explanation']}\"\n",
    "        for ex in positive_examples\n",
    "    ])\n",
    "\n",
    "    # Preparing the prompt by appending the task definition and positive examples\n",
    "    new_instances = []\n",
    "    for instance in data.get('instances', []):\n",
    "        prompt = f\"{definition}\\n{pos_examples_text}\\nWhat is {instance['input']}?\"\n",
    "        response = {\"answer\": instance['output'][0]}\n",
    "        new_instances.append({\"prompt\": prompt, \"response\": response})\n",
    "    \n",
    "    return new_instances\n",
    "\n",
    "def combine_json_files(directory):\n",
    "    # List all JSON files in the directory\n",
    "    all_files = glob.glob(os.path.join(directory, '*.json'))\n",
    "    combined_data = []\n",
    "    \n",
    "    # Process each file\n",
    "    for file_path in all_files:\n",
    "        converted_data = convert_json_format(file_path)\n",
    "        combined_data.extend(converted_data)\n",
    "    \n",
    "    # Write the combined data to a new JSON file\n",
    "    with open(output_file_path, 'w') as outfile:\n",
    "        json.dump(combined_data, outfile, indent=4)\n",
    "\n",
    "    print(f\"Combined data written to {output_file_path}\")\n",
    "\n",
    "# Run the function to combine JSON files\n",
    "combine_json_files(input_directory)\n"
   ]
  },
  {
   "cell_type": "code",
   "execution_count": 2,
   "id": "2a25d2e2-19e1-4fd3-8c12-a11d54e18219",
   "metadata": {},
   "outputs": [
    {
     "name": "stderr",
     "output_type": "stream",
     "text": [
      "IOPub data rate exceeded.\n",
      "The Jupyter server will temporarily stop sending output\n",
      "to the client in order to avoid crashing it.\n",
      "To change this limit, set the config variable\n",
      "`--ServerApp.iopub_data_rate_limit`.\n",
      "\n",
      "Current values:\n",
      "ServerApp.iopub_data_rate_limit=1000000.0 (bytes/sec)\n",
      "ServerApp.rate_limit_window=3.0 (secs)\n",
      "\n"
     ]
    }
   ],
   "source": [
    "import json\n",
    "import os\n",
    "import glob\n",
    "\n",
    "# Directory where your JSON files are stored\n",
    "input_directory = 'temporal_tasks'\n",
    "output_file_path = 'combined_output(1).json'\n",
    "\n",
    "def convert_json_format(file_path):\n",
    "    print(file_path)\n",
    "    with open(file_path, 'r') as file:\n",
    "        data = json.load(file)\n",
    "    \n",
    "    # Extract required data from the original JSON format\n",
    "    definition = data.get('Definition', [''])[0]\n",
    "    positive_examples = data.get('Positive Examples', [])\n",
    "    \n",
    "    # Formulating the positive examples part as a JSON-like string\n",
    "    pos_examples_text = \"Positive Examples:\\n\" + \"\\n\".join([\n",
    "        f'{{\"input\": \"{ex[\"input\"]}\", \"output\": [\"{ex[\"output\"][0]}\"], \"explanation\": \"{ex[\"explanation\"]}\"}}'\n",
    "        for ex in positive_examples\n",
    "    ])\n",
    "\n",
    "    # Preparing the prompt by appending the task definition and positive examples as a string\n",
    "    new_instances = []\n",
    "    instances = data.get('Instances', [])\n",
    "    print(instances)\n",
    "    # Limit to only 25 instances\n",
    "    instances = instances[:25]\n",
    "    for instance in instances:\n",
    "        prompt = f\"{definition}\\n{pos_examples_text}\\n{instance['input']}\"\n",
    "        response = {\"answer\": instance['output']}\n",
    "        new_instances.append({\"prompt\": prompt, \"response\": response})\n",
    "    \n",
    "    return new_instances\n",
    "\n",
    "def combine_json_files(directory):\n",
    "    # List all JSON files in the directory\n",
    "    all_files = glob.glob(os.path.join(directory, '*.json'))\n",
    "    combined_data = []\n",
    "    \n",
    "    # Process each file\n",
    "    for file_path in all_files:\n",
    "        converted_data = convert_json_format(file_path)\n",
    "        combined_data.extend(converted_data)\n",
    "    \n",
    "    # Write the combined data to a new JSON file\n",
    "    with open(output_file_path, 'w') as outfile:\n",
    "        json.dump(combined_data, outfile, indent=4)\n",
    "\n",
    "    print(f\"Combined data written to {output_file_path}\")\n",
    "\n",
    "# Run the function to combine JSON files\n",
    "combine_json_files(input_directory)\n"
   ]
  },
  {
   "cell_type": "code",
   "execution_count": null,
   "id": "288d86b2-d154-4f91-93ae-40dd8a795078",
   "metadata": {},
   "outputs": [],
   "source": []
  }
 ],
 "metadata": {
  "kernelspec": {
   "display_name": "Python 3",
   "language": "python",
   "name": "python3"
  },
  "language_info": {
   "codemirror_mode": {
    "name": "ipython",
    "version": 3
   },
   "file_extension": ".py",
   "mimetype": "text/x-python",
   "name": "python",
   "nbconvert_exporter": "python",
   "pygments_lexer": "ipython3",
   "version": "3.11.6"
  }
 },
 "nbformat": 4,
 "nbformat_minor": 5
}
